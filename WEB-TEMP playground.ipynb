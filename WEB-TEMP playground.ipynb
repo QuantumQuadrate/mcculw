{
 "cells": [
  {
   "cell_type": "code",
   "execution_count": 2,
   "metadata": {
    "collapsed": false,
    "deletable": true,
    "editable": true
   },
   "outputs": [],
   "source": [
    "from mcculw import ul\n",
    "from mcculw.enums import ULRange\n",
    "from mcculw.ul import ULError\n",
    "import time\n",
    "board_num = 0\n",
    "channels=range(0,8)\n",
    "ai_range = ULRange.BIP5VOLTS\n",
    "NOSCALE=5"
   ]
  },
  {
   "cell_type": "code",
   "execution_count": 5,
   "metadata": {
    "collapsed": false,
    "deletable": true,
    "editable": true
   },
   "outputs": [
    {
     "name": "stdout",
     "output_type": "stream",
     "text": [
      "Channel : 0\n",
      "T (C): 21.9056396484\n",
      "R (Ohm): 11467.6826172\n",
      "Channel : 1\n",
      "T (C): 22.8511352539\n",
      "R (Ohm): 10994.765625\n",
      "Channel : 2\n",
      "T (C): 21.4178771973\n",
      "R (Ohm): 11720.6474609\n",
      "Channel : 3\n",
      "T (C): 21.6824645996\n",
      "R (Ohm): 11582.6621094\n",
      "Channel : 4\n",
      "T (C): 21.4985046387\n",
      "R (Ohm): 11678.3955078\n",
      "Channel : 5\n",
      "T (C): 21.8720703125\n",
      "R (Ohm): 11484.9003906\n",
      "Channel : 6\n",
      "T (C): 19.7417297363\n",
      "R (Ohm): 12639.3310547\n",
      "Channel : 7\n",
      "T (C): 20.981048584\n",
      "R (Ohm): 11952.5605469\n",
      "Time elapsed : 16.0000324249 ms\n"
     ]
    }
   ],
   "source": [
    "# This reads channel by channel\n",
    "\n",
    "start_time=time.time()\n",
    "for channel in channels:\n",
    "    print \"Channel : {}\".format(channel)\n",
    "    try:\n",
    "        # Get a value from the device\n",
    "        value = ul.t_in(board_num, channel, ai_range)\n",
    "        raw_value = ul.t_in(board_num, channel, NOSCALE)\n",
    "        # Display the value\n",
    "        print(\"T (C): \" + str(value))\n",
    "        print(\"R (Ohm): \" + str(raw_value))\n",
    "    except ULError as e:\n",
    "        # Display the error\n",
    "        print(\"A UL error occurred. Code: \" + str(e.errorcode)\n",
    "              + \" Message: \" + e.message)\n",
    "end_time=time.time()\n",
    "elapsed_time=1000.0*(end_time-start_time)\n",
    "print \"Time elapsed : {} ms\".format(elapsed_time)"
   ]
  },
  {
   "cell_type": "code",
   "execution_count": 6,
   "metadata": {
    "collapsed": false,
    "deletable": true,
    "editable": true
   },
   "outputs": [
    {
     "name": "stdout",
     "output_type": "stream",
     "text": [
      "[21.906982421875, 22.85498046875, 21.4154052734375, 21.683074951171875, 21.499603271484375, 21.873077392578125, 19.664886474609375, 20.98040771484375]\n",
      "[11467.015625, 10992.9052734375, 11721.947265625, 11582.328125, 11677.8232421875, 11484.3759765625, 12683.357421875, 11952.91796875]\n",
      "Time elapsed : 13.9999389648 ms\n"
     ]
    }
   ],
   "source": [
    "# This reads a range of channel by single query\n",
    "low_chan=0\n",
    "high_chan=7\n",
    "start_time=time.time()\n",
    "try:\n",
    "    # Get a value from the device\n",
    "    result_T = ul.t_in_scan(board_num, low_chan, high_chan, ai_range)\n",
    "    result_raw = ul.t_in_scan(board_num, low_chan, high_chan, NOSCALE)\n",
    "    print result_T.data_array[:]\n",
    "    print result_raw.data_array[:]\n",
    "except ULError as e:\n",
    "    # Display the error\n",
    "    print(\"A UL error occurred. Code: \" + str(e.errorcode)\n",
    "          + \" Message: \" + e.message)\n",
    "end_time=time.time()\n",
    "elapsed_time=1000.0*(end_time-start_time)\n",
    "print \"Time elapsed : {} ms\".format(elapsed_time)"
   ]
  },
  {
   "cell_type": "code",
   "execution_count": null,
   "metadata": {
    "collapsed": true,
    "deletable": true,
    "editable": true
   },
   "outputs": [],
   "source": []
  }
 ],
 "metadata": {
  "kernelspec": {
   "display_name": "Python 2",
   "language": "python",
   "name": "python2"
  },
  "language_info": {
   "codemirror_mode": {
    "name": "ipython",
    "version": 2
   },
   "file_extension": ".py",
   "mimetype": "text/x-python",
   "name": "python",
   "nbconvert_exporter": "python",
   "pygments_lexer": "ipython2",
   "version": "2.7.11"
  }
 },
 "nbformat": 4,
 "nbformat_minor": 2
}
